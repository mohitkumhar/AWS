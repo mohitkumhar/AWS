{
 "cells": [
  {
   "cell_type": "markdown",
   "id": "4051efda-fe89-43d2-ba50-c45109caef98",
   "metadata": {},
   "source": [
    "\n",
    "## 🎯 Goal:\n",
    "Automatically install software or run commands **when EC2 instance launches** using a **bootstrap script (User Data)**.\n",
    "\n",
    "---\n",
    "\n",
    "## 📄 What is User Data?\n",
    "- A script that runs **once** on **first boot** of the EC2 instance.\n",
    "- Used to **auto-install packages**, create files, or set up services.\n",
    "\n",
    "---\n",
    "\n",
    "## 🛠 Example: Install Nginx Automatically\n",
    "\n",
    "### 1. ✅ Create a Shell Script (User Data):\n",
    "\n",
    "```bash\n",
    "#!/bin/bash\n",
    "apt update -y\n",
    "apt install nginx -y\n",
    "echo \"Welcome to Mohit's Auto Deployed EC2\" > /var/www/html/index.html\n",
    "```\n",
    "\n",
    "---\n",
    "\n",
    "### 2. ✅ Launch EC2 with this Script:\n",
    "\n",
    "- While launching a new EC2 instance:\n",
    "  - Go to **\"Advanced Details\"**\n",
    "  - Paste the above script in **\"User Data\"** textbox\n",
    "\n",
    "---\n",
    "\n",
    "### 3. ✅ After Launch:\n",
    "\n",
    "- Open browser:\n",
    "```\n",
    "http://<EC2 Public IP>\n",
    "```\n",
    "\n",
    "You’ll see:\n",
    "```\n",
    "Welcome to Mohit's Auto Deployed EC2\n",
    "```\n",
    "\n",
    "Nginx is installed and page is deployed **automatically**.\n",
    "\n",
    "---\n",
    "\n",
    "## 🔥 Notes:\n",
    "\n",
    "- Works only on **first launch**\n",
    "- For **Ubuntu** use `apt`, for **Amazon Linux** use `yum`\n",
    "- Make sure port **80 (HTTP)** is allowed in **Security Group**"
   ]
  },
  {
   "cell_type": "code",
   "execution_count": null,
   "id": "6e60db28-2772-4159-9591-f1a6e04853c8",
   "metadata": {},
   "outputs": [],
   "source": []
  }
 ],
 "metadata": {
  "kernelspec": {
   "display_name": ".camera_venv",
   "language": "python",
   "name": ".camera_venv"
  },
  "language_info": {
   "codemirror_mode": {
    "name": "ipython",
    "version": 3
   },
   "file_extension": ".py",
   "mimetype": "text/x-python",
   "name": "python",
   "nbconvert_exporter": "python",
   "pygments_lexer": "ipython3",
   "version": "3.10.6"
  }
 },
 "nbformat": 4,
 "nbformat_minor": 5
}
