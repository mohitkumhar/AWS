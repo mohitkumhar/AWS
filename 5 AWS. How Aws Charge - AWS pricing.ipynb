{
 "cells": [
  {
   "cell_type": "markdown",
   "id": "daaab600-d1ca-4533-9d8f-0157dd9085a9",
   "metadata": {},
   "source": [
    "### **AWS Pricing Based on Resource Usage**  \n",
    "\n",
    "AWS pricing is primarily based on three key factors:  \n",
    "\n",
    "### **1️ Compute Pricing**  \n",
    "- AWS charges based on the amount of processing power you use.  \n",
    "- This includes services like **EC2 (Virtual Servers), Lambda (Serverless), and ECS (Containers)**.  \n",
    "- Pricing depends on:  \n",
    "  ✅ **Instance Type** (CPU, RAM, GPU)  \n",
    "  ✅ **Usage Time** (Pay per second/minute/hour)  \n",
    "  ✅ **Region** (Different AWS regions have different prices)  \n",
    "\n",
    "**Example:**  \n",
    "- Running an **EC2 instance** for **5 hours** will be charged only for those 5 hours.  \n",
    "- AWS Lambda charges based on **execution time** and **number of requests**.  \n",
    "\n",
    "---\n",
    "\n",
    "### **2️ Storage Pricing**  \n",
    "- Charges for the amount of data stored in AWS.  \n",
    "- Includes services like **S3 (Object Storage), EBS (Block Storage), and Glacier (Cold Storage)**.  \n",
    "- Pricing depends on:  \n",
    "  ✅ **Storage Type** (Standard, Infrequent Access, Archive)  \n",
    "  ✅ **Storage Size** (GBs or TBs stored per month)  \n",
    "  ✅ **Data Retrieval Speed** (Faster retrieval costs more)  \n",
    "\n",
    "**Example:**  \n",
    "- Storing **100GB** in **S3 Standard** costs more than **S3 Glacier**, which is meant for archival storage.  \n",
    "- If you **store 500GB in S3**, you pay for 500GB/month.  \n",
    "\n",
    "---\n",
    "\n",
    "### **3️ Data Transfer Pricing**  \n",
    "- AWS charges for data moving in and out of its servers.  \n",
    "- **Inbound data (upload to AWS)** is usually **free**, but **outbound data (download from AWS)** is charged.  \n",
    "- Pricing depends on:  \n",
    "  ✅ **Data Transfer Type** (Internet vs. AWS services)  \n",
    "  ✅ **Data Volume** (More data = higher cost)  \n",
    "  ✅ **Region** (Different AWS regions have different transfer costs)  \n",
    "\n",
    "**Example:**  \n",
    "- Uploading **1TB** to S3 is free, but **downloading 1TB** to your local system may cost based on AWS pricing.  \n",
    "- Transferring data **between AWS regions** costs extra.  \n",
    "\n",
    "---\n",
    "\n",
    "### **Summary of AWS Pricing Factors**  \n",
    "\n",
    "| **Category** | **What is Charged?** | **Example** |\n",
    "|-------------|----------------|-----------|\n",
    "| **Compute** | CPU, Memory, Instance Time | EC2, Lambda |\n",
    "| **Storage** | Data stored in AWS | S3, EBS, Glacier |\n",
    "| **Data Transfer** | Downloading data outside AWS | S3 to local PC |\n"
   ]
  },
  {
   "cell_type": "code",
   "execution_count": null,
   "id": "68060ed8-b839-402e-ac65-d989c47c4af3",
   "metadata": {},
   "outputs": [],
   "source": []
  }
 ],
 "metadata": {
  "kernelspec": {
   "display_name": ".camera_venv",
   "language": "python",
   "name": ".camera_venv"
  },
  "language_info": {
   "codemirror_mode": {
    "name": "ipython",
    "version": 3
   },
   "file_extension": ".py",
   "mimetype": "text/x-python",
   "name": "python",
   "nbconvert_exporter": "python",
   "pygments_lexer": "ipython3",
   "version": "3.10.6"
  }
 },
 "nbformat": 4,
 "nbformat_minor": 5
}
