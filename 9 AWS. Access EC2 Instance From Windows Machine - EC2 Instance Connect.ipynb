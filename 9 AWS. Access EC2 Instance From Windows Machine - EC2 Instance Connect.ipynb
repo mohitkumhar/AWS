{
 "cells": [
  {
   "cell_type": "markdown",
   "id": "ef839121-3cdd-4bd7-8a8d-8e956aff2bc8",
   "metadata": {},
   "source": [
    "## 🔑 Files Required:\n",
    "- `.pem` file (key pair downloaded while launching EC2)\n",
    "\n",
    "---\n",
    "\n",
    "## 🌐 Method 1: EC2 Instance Connect (Web Browser)\n",
    "\n",
    "### Steps:\n",
    "1. Go to **AWS Console > EC2 > Instances**\n",
    "2. Select your instance\n",
    "3. Click **Connect**\n",
    "4. Choose **EC2 Instance Connect**\n",
    "5. Click **Connect**\n",
    "\n",
    "➡️ Terminal opens in browser — no PEM file needed.\n",
    "\n",
    "---\n",
    "\n",
    "## 💻 Method 2: SSH from Windows PowerShell\n",
    "\n",
    "### Steps:\n",
    "1. Place `.pem` file in a folder (e.g., `C:\\ec2\\mymachine.pem`)\n",
    "2. Set file permissions:\n",
    "\n",
    "```powershell\n",
    "cd C:\\ec2\n",
    "icacls mymachine.pem /inheritance:r\n",
    "icacls mymachine.pem /grant:r \"%username%:R\"\n",
    "```\n",
    "\n",
    "3. SSH into instance:\n",
    "\n",
    "```bash\n",
    "ssh -i \"mymachine.pem\" ubuntu@<Public_IP>\n",
    "```\n",
    "\n",
    "> Use `ec2-user` for Amazon Linux, `ubuntu` for Ubuntu\n",
    "\n",
    "---\n",
    "\n",
    "## 🧾 Summary of Commands:\n",
    "\n",
    "```powershell\n",
    "cd C:\\ec2\n",
    "icacls mymachine.pem /inheritance:r\n",
    "icacls mymachine.pem /grant:r \"%username%:R\"\n",
    "ssh -i \"mymachine.pem\" ubuntu@<Public_IP>\n",
    "```\n",
    "\n",
    "**PuTTY method** is also used to connect the instance"
   ]
  }
 ],
 "metadata": {
  "kernelspec": {
   "display_name": "Python 3 (ipykernel)",
   "language": "python",
   "name": "python3"
  },
  "language_info": {
   "codemirror_mode": {
    "name": "ipython",
    "version": 3
   },
   "file_extension": ".py",
   "mimetype": "text/x-python",
   "name": "python",
   "nbconvert_exporter": "python",
   "pygments_lexer": "ipython3",
   "version": "3.10.6"
  }
 },
 "nbformat": 4,
 "nbformat_minor": 5
}
