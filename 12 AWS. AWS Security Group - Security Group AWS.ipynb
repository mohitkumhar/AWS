{
 "cells": [
  {
   "cell_type": "markdown",
   "id": "c2c60d6d-3f3f-4a4f-b1c7-301492a29094",
   "metadata": {},
   "source": [
    "## 🔐 What is a **Security Group**?\n",
    "\n",
    "- A **virtual firewall** for your EC2 instance.\n",
    "- Controls **inbound (incoming)** and **outbound (outgoing)** traffic.\n",
    "- Works at the **instance level**, not OS level.\n",
    "\n",
    "---\n",
    "\n",
    "## 🛠 Key Features:\n",
    "\n",
    "- **Default deny** all inbound traffic.\n",
    "- **Default allow** all outbound traffic.\n",
    "- You must manually **allow ports** like 22 (SSH), 80 (HTTP), etc.\n",
    "- Stateless — responses to allowed inbound traffic are automatically allowed.\n",
    "\n",
    "---\n",
    "\n",
    "## ✅ Common Inbound Rules:\n",
    "\n",
    "| Purpose        | Type    | Port | Source             |\n",
    "|----------------|---------|------|--------------------|\n",
    "| SSH (Linux)    | SSH     | 22   | Your IP (recommended) |\n",
    "| HTTP (Web)     | HTTP    | 80   | 0.0.0.0/0          |\n",
    "| HTTPS (Secure Web) | HTTPS | 443 | 0.0.0.0/0          |\n",
    "| Custom App     | Custom TCP | Any | Depends on App |\n",
    "\n",
    "---\n",
    "\n",
    "## 🔧 How to Add/Edit Security Group Rules:\n",
    "\n",
    "1. Go to **EC2 Dashboard** → **Security Groups**\n",
    "2. Click on your **security group**\n",
    "3. Choose **Inbound rules → Edit**\n",
    "4. Click **\"Add Rule\"** and set:\n",
    "   - Type (e.g. HTTP)\n",
    "   - Port (e.g. 80)\n",
    "   - Source (e.g. 0.0.0.0/0 for public)\n",
    "\n",
    "5. Click **\"Save rules\"**\n",
    "\n",
    "---\n",
    "\n",
    "## ⚠️ Tips:\n",
    "\n",
    "- Don’t allow **SSH (22)** from **0.0.0.0/0** in production.\n",
    "- Use **My IP** to restrict SSH to your machine.\n",
    "- Use separate security groups for different services if needed.\n",
    "\n"
   ]
  },
  {
   "cell_type": "code",
   "execution_count": null,
   "id": "8af29286-821c-48f1-8bb9-df6ec3e5541e",
   "metadata": {},
   "outputs": [],
   "source": []
  }
 ],
 "metadata": {
  "kernelspec": {
   "display_name": "Python 3 (ipykernel)",
   "language": "python",
   "name": "python3"
  },
  "language_info": {
   "codemirror_mode": {
    "name": "ipython",
    "version": 3
   },
   "file_extension": ".py",
   "mimetype": "text/x-python",
   "name": "python",
   "nbconvert_exporter": "python",
   "pygments_lexer": "ipython3",
   "version": "3.10.6"
  }
 },
 "nbformat": 4,
 "nbformat_minor": 5
}
